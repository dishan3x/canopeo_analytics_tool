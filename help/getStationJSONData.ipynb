{
 "cells": [
  {
   "cell_type": "markdown",
   "metadata": {},
   "source": [
    "# Convert kansas mesonent station"
   ]
  },
  {
   "cell_type": "code",
   "execution_count": 12,
   "metadata": {},
   "outputs": [],
   "source": [
    "import pandas as pd  \n",
    "mesonantStationUrl = 'https://mesonet.k-state.edu/rest/stationnames/'\n",
    "stationCSV         =   pd.read_csv(mesonantStationUrl)"
   ]
  },
  {
   "cell_type": "code",
   "execution_count": 13,
   "metadata": {},
   "outputs": [],
   "source": [
    "# Getting the coloumns of csv\n",
    "stationColumn= stationCSV.columns\n",
    "\n",
    "lengthOfColumns = len(stationColumn)"
   ]
  },
  {
   "cell_type": "markdown",
   "metadata": {},
   "source": [
    "\n",
    "Data will be organized according to the station name. "
   ]
  },
  {
   "cell_type": "code",
   "execution_count": 14,
   "metadata": {},
   "outputs": [],
   "source": [
    "text_file = open(\"stationData.js\", \"w\")\n",
    "\n",
    "\n",
    "lenghtOfDataSet = len(stationCSV)\n",
    "stringStation = \"var station = '{\"\n",
    "\n",
    "for index, row in stationCSV.iterrows():\n",
    "    \n",
    "    stringStation += '\"'+ (str(row[0])+'\":{')\n",
    "    for i in range(1,lengthOfColumns):\n",
    "        stringStation += '\"'+stationColumn[i] + '\":\"'+str(row[stationColumn[i]]) +'\",'\n",
    "    \n",
    "    stringStation = stringStation[:-1]\n",
    "    stringStation += \"},\"  \n",
    "\n",
    "stringStation = stringStation[:-1]\n",
    "stringStation += \"}';\"\n",
    "text_file.write(stringStation)\n",
    "\n",
    "text_file.close()"
   ]
  }
 ],
 "metadata": {
  "kernelspec": {
   "display_name": "Python 3",
   "language": "python",
   "name": "python3"
  },
  "language_info": {
   "codemirror_mode": {
    "name": "ipython",
    "version": 3
   },
   "file_extension": ".py",
   "mimetype": "text/x-python",
   "name": "python",
   "nbconvert_exporter": "python",
   "pygments_lexer": "ipython3",
   "version": "3.7.4"
  }
 },
 "nbformat": 4,
 "nbformat_minor": 4
}
